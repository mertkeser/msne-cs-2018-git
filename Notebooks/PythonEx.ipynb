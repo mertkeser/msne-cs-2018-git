{
 "cells": [
  {
   "cell_type": "markdown",
   "metadata": {},
   "source": [
    "# Exercise 1\n",
    "Create a program that asks the user for a number and then prints out a list of all the divisors of that number. (If you don’t know what a divisor is, it is a number that divides evenly into another number. For example, 13 is a divisor of 26 because 26 / 13 has no remainder.)"
   ]
  },
  {
   "cell_type": "code",
   "execution_count": null,
   "metadata": {},
   "outputs": [],
   "source": [
    "number = int(input(\"Please Enter a number for seeing the divisors:\"))\n",
    "listdiv = [1]\n",
    "\n",
    "if number == 1:\n",
    "    print(\"There is only one divisor which is itself\")\n",
    "elif number == 2:\n",
    "    print(\"There are two divisors: 2 and 1\")\n",
    "    listdiv.append(2)\n",
    "else:\n",
    "    print(\"Divisors:\")\n",
    "    for divisor in range(2,number+1):\n",
    "        if number % divisor == 0: \n",
    "            listdiv.append(divisor)\n",
    "            \n",
    "print(listdiv)"
   ]
  },
  {
   "cell_type": "markdown",
   "metadata": {},
   "source": [
    "# Exercise 2\n",
    "For this exercise, we will keep track of when our friend’s birthdays are, and be able to find that information based on their name. Create a dictionary (in your file) of names and birthdays. When you run your program it should ask the user to enter a name, and return the birthday of that person back to them. The interaction should look something like this:"
   ]
  },
  {
   "cell_type": "code",
   "execution_count": null,
   "metadata": {},
   "outputs": [],
   "source": [
    "Birthdays = {\"Albert Einstein\":\"28/05/1938\", \"Benjamin Franklin\":\"01/11/1912\", \"Ada Lovelace\":\"15/05/1968\"}\n",
    "print(\"Welcome to birthday dictionary. We know the birthdays of:\")\n",
    "for key,value in Birthdays.items():\n",
    "      print(key)\n",
    "search = input{\"Who's birthday do you want to look up?\"}\n",
    "print(search + '\\'s birthday is')"
   ]
  },
  {
   "cell_type": "markdown",
   "metadata": {},
   "source": [
    "# Exercise 3\n",
    "Let’s say I give you a list saved in a variable: a = [1, 4, 9, 16, 25, 36, 49, 64, 81, 100]. Write one line of Python that takes this list a and makes a new list that has only the even elements of this list in it."
   ]
  },
  {
   "cell_type": "code",
   "execution_count": null,
   "metadata": {},
   "outputs": [],
   "source": [
    "listold = [1, 4, 9, 16, 25, 36, 49, 64, 81, 100]\n",
    "\n",
    "listnew = [i for i in listold if (i % 2) == 0]\n",
    "\n",
    "print(listnew)"
   ]
  },
  {
   "cell_type": "markdown",
   "metadata": {},
   "source": [
    "Write a program that asks the user how many Fibonacci numbers to generate and then generates them. Take this opportunity to think about how you can use functions. Make sure to ask the user to enter the number of numbers in the sequence to generate.(Hint: The Fibonacci seqence is a sequence of numbers where the next number in the sequence is the sum of the previous two numbers in the sequence. The sequence looks like this: 1, 1, 2, 3, 5, 8, 13, …)"
   ]
  },
  {
   "cell_type": "code",
   "execution_count": null,
   "metadata": {},
   "outputs": [],
   "source": [
    "number = int(print(\"How Many Fibonacci Numbers You Want\"))\n",
    "fiblist = []\n",
    "\n",
    "if number == 1:\n",
    "    fiblist.append(1)\n",
    "if number == 2:\n",
    "    fiblist.append(1)\n",
    "if number > 2:\n",
    "    for i in range(2,number):\n",
    "        fiblist.append()"
   ]
  },
  {
   "cell_type": "code",
   "execution_count": null,
   "metadata": {},
   "outputs": [],
   "source": []
  }
 ],
 "metadata": {
  "kernelspec": {
   "display_name": "Python 3",
   "language": "python",
   "name": "python3"
  },
  "language_info": {
   "codemirror_mode": {
    "name": "ipython",
    "version": 3
   },
   "file_extension": ".py",
   "mimetype": "text/x-python",
   "name": "python",
   "nbconvert_exporter": "python",
   "pygments_lexer": "ipython3",
   "version": "3.7.0"
  }
 },
 "nbformat": 4,
 "nbformat_minor": 2
}
